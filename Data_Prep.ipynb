{
 "cells": [
  {
   "cell_type": "code",
   "execution_count": 6,
   "id": "111b4051",
   "metadata": {},
   "outputs": [],
   "source": [
    "#!pip install gensim\n",
    "\n",
    "import pandas as pd\n",
    "import numpy as np\n",
    "import matplotlib.pyplot as plt\n",
    "import seaborn as sns\n",
    "import timeit\n",
    "import bz2\n",
    "\n",
    "%matplotlib inline"
   ]
  },
  {
   "cell_type": "code",
   "execution_count": null,
   "id": "54abae97",
   "metadata": {
    "tags": []
   },
   "outputs": [],
   "source": [
    "!python ./src/load_models_data.py"
   ]
  },
  {
   "cell_type": "markdown",
   "id": "d838779e-e3d5-4a08-b78e-fc19685e3666",
   "metadata": {},
   "source": [
    "# Load Data"
   ]
  },
  {
   "cell_type": "markdown",
   "id": "19024c39-e217-4585-9d52-9b44519af7e0",
   "metadata": {},
   "source": [
    "## Quotes"
   ]
  },
  {
   "cell_type": "code",
   "execution_count": 3,
   "id": "7f59633f",
   "metadata": {
    "scrolled": true
   },
   "outputs": [],
   "source": [
    "data_folder = './data/'\n",
    "data_file = 'quotes-2019.json.bz2'\n",
    "data_path = data_folder + data_file\n",
    "chunk_size = 1e5\n",
    "\n",
    "# Load 1 chunk\n",
    "f = bz2.open(data_path, \"rb\")\n",
    "data=pd.read_json(f, lines=True, chunksize=chunk_size)\n",
    "chunk = next(data)"
   ]
  },
  {
   "cell_type": "markdown",
   "id": "f25038d9-5ab7-43a7-bc22-f94910b4a0fb",
   "metadata": {},
   "source": [
    "## Speaker Attributes"
   ]
  },
  {
   "cell_type": "code",
   "execution_count": 4,
   "id": "e68b35a6",
   "metadata": {},
   "outputs": [],
   "source": [
    "from src.prep_utilities import * \n",
    "from src.prep_pipeline import *"
   ]
  },
  {
   "cell_type": "code",
   "execution_count": 5,
   "id": "b8249fee",
   "metadata": {},
   "outputs": [
    {
     "name": "stdout",
     "output_type": "stream",
     "text": [
      "Time: 14.5s\n"
     ]
    }
   ],
   "source": [
    "speaker_file = 'speaker_attributes_processed.parquet'\n",
    "speaker_path = data_folder + speaker_file\n",
    "\n",
    "start = timeit.default_timer()\n",
    "\n",
    "\n",
    "speaker_attributes = pd.read_parquet(speaker_path)\n",
    "\n",
    "\n",
    "stop = timeit.default_timer()\n",
    "print(f'Time: {stop-start:.1f}s')"
   ]
  },
  {
   "cell_type": "code",
   "execution_count": 7,
   "id": "b91ff767",
   "metadata": {},
   "outputs": [
    {
     "data": {
      "text/html": [
       "<div>\n",
       "<style scoped>\n",
       "    .dataframe tbody tr th:only-of-type {\n",
       "        vertical-align: middle;\n",
       "    }\n",
       "\n",
       "    .dataframe tbody tr th {\n",
       "        vertical-align: top;\n",
       "    }\n",
       "\n",
       "    .dataframe thead th {\n",
       "        text-align: right;\n",
       "    }\n",
       "</style>\n",
       "<table border=\"1\" class=\"dataframe\">\n",
       "  <thead>\n",
       "    <tr style=\"text-align: right;\">\n",
       "      <th></th>\n",
       "      <th>aliases</th>\n",
       "      <th>date_of_birth</th>\n",
       "      <th>nationality</th>\n",
       "      <th>gender</th>\n",
       "      <th>lastrevid</th>\n",
       "      <th>ethnic_group</th>\n",
       "      <th>US_congress_bio_ID</th>\n",
       "      <th>occupation</th>\n",
       "      <th>party</th>\n",
       "      <th>academic_degree</th>\n",
       "      <th>...</th>\n",
       "      <th>type</th>\n",
       "      <th>religion</th>\n",
       "      <th>nationality_label</th>\n",
       "      <th>gender_label</th>\n",
       "      <th>ethnic_group_label</th>\n",
       "      <th>occupation_label</th>\n",
       "      <th>party_label</th>\n",
       "      <th>academic_degree_label</th>\n",
       "      <th>candidacy_label</th>\n",
       "      <th>religion_label</th>\n",
       "    </tr>\n",
       "    <tr>\n",
       "      <th>id</th>\n",
       "      <th></th>\n",
       "      <th></th>\n",
       "      <th></th>\n",
       "      <th></th>\n",
       "      <th></th>\n",
       "      <th></th>\n",
       "      <th></th>\n",
       "      <th></th>\n",
       "      <th></th>\n",
       "      <th></th>\n",
       "      <th></th>\n",
       "      <th></th>\n",
       "      <th></th>\n",
       "      <th></th>\n",
       "      <th></th>\n",
       "      <th></th>\n",
       "      <th></th>\n",
       "      <th></th>\n",
       "      <th></th>\n",
       "      <th></th>\n",
       "      <th></th>\n",
       "    </tr>\n",
       "  </thead>\n",
       "  <tbody>\n",
       "    <tr>\n",
       "      <th>Q23</th>\n",
       "      <td>[Washington, President Washington, G. Washingt...</td>\n",
       "      <td>[+1732-02-22T00:00:00Z]</td>\n",
       "      <td>[Q161885, Q30]</td>\n",
       "      <td>[Q6581097]</td>\n",
       "      <td>1395141751</td>\n",
       "      <td>None</td>\n",
       "      <td>W000178</td>\n",
       "      <td>[Q82955, Q189290, Q131512, Q1734662, Q294126, ...</td>\n",
       "      <td>[Q327591]</td>\n",
       "      <td>None</td>\n",
       "      <td>...</td>\n",
       "      <td>item</td>\n",
       "      <td>[Q682443]</td>\n",
       "      <td>[Great Britain, United States of America]</td>\n",
       "      <td>male</td>\n",
       "      <td>None</td>\n",
       "      <td>[politician, military officer, farmer, cartogr...</td>\n",
       "      <td>[independent politician]</td>\n",
       "      <td>None</td>\n",
       "      <td>[1792 United States presidential election, 178...</td>\n",
       "      <td>[Episcopal Church]</td>\n",
       "    </tr>\n",
       "    <tr>\n",
       "      <th>Q42</th>\n",
       "      <td>[Douglas Noel Adams, Douglas Noël Adams, Dougl...</td>\n",
       "      <td>[+1952-03-11T00:00:00Z]</td>\n",
       "      <td>[Q145]</td>\n",
       "      <td>[Q6581097]</td>\n",
       "      <td>1395737157</td>\n",
       "      <td>[Q7994501]</td>\n",
       "      <td>None</td>\n",
       "      <td>[Q214917, Q28389, Q6625963, Q4853732, Q1884422...</td>\n",
       "      <td>None</td>\n",
       "      <td>None</td>\n",
       "      <td>...</td>\n",
       "      <td>item</td>\n",
       "      <td>None</td>\n",
       "      <td>[United Kingdom]</td>\n",
       "      <td>male</td>\n",
       "      <td>[White British]</td>\n",
       "      <td>[playwright, screenwriter, novelist, children'...</td>\n",
       "      <td>None</td>\n",
       "      <td>None</td>\n",
       "      <td>None</td>\n",
       "      <td>None</td>\n",
       "    </tr>\n",
       "    <tr>\n",
       "      <th>Q1868</th>\n",
       "      <td>[Paul Marie Ghislain Otlet, Paul Marie Otlet]</td>\n",
       "      <td>[+1868-08-23T00:00:00Z]</td>\n",
       "      <td>[Q31]</td>\n",
       "      <td>[Q6581097]</td>\n",
       "      <td>1380367296</td>\n",
       "      <td>None</td>\n",
       "      <td>None</td>\n",
       "      <td>[Q36180, Q40348, Q182436, Q1265807, Q205375, Q...</td>\n",
       "      <td>None</td>\n",
       "      <td>None</td>\n",
       "      <td>...</td>\n",
       "      <td>item</td>\n",
       "      <td>None</td>\n",
       "      <td>[Belgium]</td>\n",
       "      <td>male</td>\n",
       "      <td>None</td>\n",
       "      <td>[writer, lawyer, librarian, information scient...</td>\n",
       "      <td>None</td>\n",
       "      <td>None</td>\n",
       "      <td>None</td>\n",
       "      <td>None</td>\n",
       "    </tr>\n",
       "    <tr>\n",
       "      <th>Q207</th>\n",
       "      <td>[George Walker Bush, Bush Jr., Dubya, GWB, Bus...</td>\n",
       "      <td>[+1946-07-06T00:00:00Z]</td>\n",
       "      <td>[Q30]</td>\n",
       "      <td>[Q6581097]</td>\n",
       "      <td>1395142029</td>\n",
       "      <td>None</td>\n",
       "      <td>None</td>\n",
       "      <td>[Q82955, Q15982858, Q18814623, Q1028181, Q1408...</td>\n",
       "      <td>[Q29468]</td>\n",
       "      <td>None</td>\n",
       "      <td>...</td>\n",
       "      <td>item</td>\n",
       "      <td>[Q329646, Q682443, Q33203]</td>\n",
       "      <td>[United States of America]</td>\n",
       "      <td>male</td>\n",
       "      <td>None</td>\n",
       "      <td>[politician, motivational speaker, autobiograp...</td>\n",
       "      <td>[Republican Party]</td>\n",
       "      <td>None</td>\n",
       "      <td>[2000 United States presidential election, 200...</td>\n",
       "      <td>[United Methodist Church, Episcopal Church, Me...</td>\n",
       "    </tr>\n",
       "    <tr>\n",
       "      <th>Q297</th>\n",
       "      <td>[Velázquez, Diego Rodríguez de Silva y Velázqu...</td>\n",
       "      <td>[+1599-06-06T00:00:00Z]</td>\n",
       "      <td>[Q29]</td>\n",
       "      <td>[Q6581097]</td>\n",
       "      <td>1391704596</td>\n",
       "      <td>None</td>\n",
       "      <td>None</td>\n",
       "      <td>[Q1028181]</td>\n",
       "      <td>None</td>\n",
       "      <td>None</td>\n",
       "      <td>...</td>\n",
       "      <td>item</td>\n",
       "      <td>None</td>\n",
       "      <td>[Spain]</td>\n",
       "      <td>male</td>\n",
       "      <td>None</td>\n",
       "      <td>[painter]</td>\n",
       "      <td>None</td>\n",
       "      <td>None</td>\n",
       "      <td>None</td>\n",
       "      <td>None</td>\n",
       "    </tr>\n",
       "  </tbody>\n",
       "</table>\n",
       "<p>5 rows × 22 columns</p>\n",
       "</div>"
      ],
      "text/plain": [
       "                                                 aliases  \\\n",
       "id                                                         \n",
       "Q23    [Washington, President Washington, G. Washingt...   \n",
       "Q42    [Douglas Noel Adams, Douglas Noël Adams, Dougl...   \n",
       "Q1868      [Paul Marie Ghislain Otlet, Paul Marie Otlet]   \n",
       "Q207   [George Walker Bush, Bush Jr., Dubya, GWB, Bus...   \n",
       "Q297   [Velázquez, Diego Rodríguez de Silva y Velázqu...   \n",
       "\n",
       "                 date_of_birth     nationality      gender   lastrevid  \\\n",
       "id                                                                       \n",
       "Q23    [+1732-02-22T00:00:00Z]  [Q161885, Q30]  [Q6581097]  1395141751   \n",
       "Q42    [+1952-03-11T00:00:00Z]          [Q145]  [Q6581097]  1395737157   \n",
       "Q1868  [+1868-08-23T00:00:00Z]           [Q31]  [Q6581097]  1380367296   \n",
       "Q207   [+1946-07-06T00:00:00Z]           [Q30]  [Q6581097]  1395142029   \n",
       "Q297   [+1599-06-06T00:00:00Z]           [Q29]  [Q6581097]  1391704596   \n",
       "\n",
       "      ethnic_group US_congress_bio_ID  \\\n",
       "id                                      \n",
       "Q23           None            W000178   \n",
       "Q42     [Q7994501]               None   \n",
       "Q1868         None               None   \n",
       "Q207          None               None   \n",
       "Q297          None               None   \n",
       "\n",
       "                                              occupation      party  \\\n",
       "id                                                                    \n",
       "Q23    [Q82955, Q189290, Q131512, Q1734662, Q294126, ...  [Q327591]   \n",
       "Q42    [Q214917, Q28389, Q6625963, Q4853732, Q1884422...       None   \n",
       "Q1868  [Q36180, Q40348, Q182436, Q1265807, Q205375, Q...       None   \n",
       "Q207   [Q82955, Q15982858, Q18814623, Q1028181, Q1408...   [Q29468]   \n",
       "Q297                                          [Q1028181]       None   \n",
       "\n",
       "      academic_degree  ...  type                    religion  \\\n",
       "id                     ...                                     \n",
       "Q23              None  ...  item                   [Q682443]   \n",
       "Q42              None  ...  item                        None   \n",
       "Q1868            None  ...  item                        None   \n",
       "Q207             None  ...  item  [Q329646, Q682443, Q33203]   \n",
       "Q297             None  ...  item                        None   \n",
       "\n",
       "                               nationality_label gender_label  \\\n",
       "id                                                              \n",
       "Q23    [Great Britain, United States of America]         male   \n",
       "Q42                             [United Kingdom]         male   \n",
       "Q1868                                  [Belgium]         male   \n",
       "Q207                  [United States of America]         male   \n",
       "Q297                                     [Spain]         male   \n",
       "\n",
       "      ethnic_group_label                                   occupation_label  \\\n",
       "id                                                                            \n",
       "Q23                 None  [politician, military officer, farmer, cartogr...   \n",
       "Q42      [White British]  [playwright, screenwriter, novelist, children'...   \n",
       "Q1868               None  [writer, lawyer, librarian, information scient...   \n",
       "Q207                None  [politician, motivational speaker, autobiograp...   \n",
       "Q297                None                                          [painter]   \n",
       "\n",
       "                    party_label academic_degree_label  \\\n",
       "id                                                      \n",
       "Q23    [independent politician]                  None   \n",
       "Q42                        None                  None   \n",
       "Q1868                      None                  None   \n",
       "Q207         [Republican Party]                  None   \n",
       "Q297                       None                  None   \n",
       "\n",
       "                                         candidacy_label  \\\n",
       "id                                                         \n",
       "Q23    [1792 United States presidential election, 178...   \n",
       "Q42                                                 None   \n",
       "Q1868                                               None   \n",
       "Q207   [2000 United States presidential election, 200...   \n",
       "Q297                                                None   \n",
       "\n",
       "                                          religion_label  \n",
       "id                                                        \n",
       "Q23                                   [Episcopal Church]  \n",
       "Q42                                                 None  \n",
       "Q1868                                               None  \n",
       "Q207   [United Methodist Church, Episcopal Church, Me...  \n",
       "Q297                                                None  \n",
       "\n",
       "[5 rows x 22 columns]"
      ]
     },
     "execution_count": 7,
     "metadata": {},
     "output_type": "execute_result"
    }
   ],
   "source": [
    "speaker_attributes.head()"
   ]
  },
  {
   "cell_type": "markdown",
   "id": "b976db37-0cd2-4254-92e6-0e86805e0f38",
   "metadata": {},
   "source": [
    "# Pre-processing"
   ]
  },
  {
   "cell_type": "code",
   "execution_count": null,
   "id": "f718d526",
   "metadata": {},
   "outputs": [
    {
     "name": "stdout",
     "output_type": "stream",
     "text": [
      "Deleting rows with 'None' speaker...\n",
      "Simplifying date column...\n"
     ]
    },
    {
     "name": "stderr",
     "output_type": "stream",
     "text": [
      "/home/andre/Documents/ADA/ada-2021-project-madam-main/src/prep_pipeline.py:21: SettingWithCopyWarning: \n",
      "A value is trying to be set on a copy of a slice from a DataFrame.\n",
      "Try using .loc[row_indexer,col_indexer] = value instead\n",
      "\n",
      "See the caveats in the documentation: https://pandas.pydata.org/pandas-docs/stable/user_guide/indexing.html#returning-a-view-versus-a-copy\n",
      "  copy_doc['date'] = copy_doc['date'].apply(lambda x: get_yyyy_mm(x))\n"
     ]
    },
    {
     "name": "stdout",
     "output_type": "stream",
     "text": [
      "Tokenizing quotes...\n"
     ]
    }
   ],
   "source": [
    "start = timeit.default_timer()\n",
    "\n",
    "chunk_prep = prep_docs(chunk, speaker_attributes)\n",
    "\n",
    "stop = timeit.default_timer()\n",
    "\n",
    "print(f'Time: {stop-start:.1f}s')"
   ]
  },
  {
   "cell_type": "code",
   "execution_count": 39,
   "id": "da154dd9",
   "metadata": {},
   "outputs": [
    {
     "ename": "NameError",
     "evalue": "name 'data2' is not defined",
     "output_type": "error",
     "traceback": [
      "\u001b[1;31m---------------------------------------------------------------------------\u001b[0m",
      "\u001b[1;31mNameError\u001b[0m                                 Traceback (most recent call last)",
      "\u001b[1;32m~\\AppData\\Local\\Temp/ipykernel_19752/3066561278.py\u001b[0m in \u001b[0;36m<module>\u001b[1;34m\u001b[0m\n\u001b[1;32m----> 1\u001b[1;33m \u001b[0mdata2\u001b[0m\u001b[1;33m.\u001b[0m\u001b[0mhead\u001b[0m\u001b[1;33m(\u001b[0m\u001b[1;33m)\u001b[0m\u001b[1;33m\u001b[0m\u001b[1;33m\u001b[0m\u001b[0m\n\u001b[0m",
      "\u001b[1;31mNameError\u001b[0m: name 'data2' is not defined"
     ]
    }
   ],
   "source": [
    "data2.head()"
   ]
  },
  {
   "cell_type": "code",
   "execution_count": 13,
   "id": "68fbadc5",
   "metadata": {},
   "outputs": [
    {
     "data": {
      "text/plain": [
       "gender\n",
       "female                146\n",
       "male                  584\n",
       "transgender female      2\n",
       "Name: quoteID, dtype: int64"
      ]
     },
     "execution_count": 13,
     "metadata": {},
     "output_type": "execute_result"
    }
   ],
   "source": [
    "df = data2.groupby('gender')['quoteID'].nunique()\n",
    "df"
   ]
  },
  {
   "cell_type": "code",
   "execution_count": null,
   "id": "763d9a3d",
   "metadata": {},
   "outputs": [],
   "source": []
  }
 ],
 "metadata": {
  "kernelspec": {
   "display_name": "Python 3 (ipykernel)",
   "language": "python",
   "name": "python3"
  },
  "language_info": {
   "codemirror_mode": {
    "name": "ipython",
    "version": 3
   },
   "file_extension": ".py",
   "mimetype": "text/x-python",
   "name": "python",
   "nbconvert_exporter": "python",
   "pygments_lexer": "ipython3",
   "version": "3.8.11"
  },
  "toc-autonumbering": true,
  "toc-showcode": true,
  "toc-showmarkdowntxt": true
 },
 "nbformat": 4,
 "nbformat_minor": 5
}
