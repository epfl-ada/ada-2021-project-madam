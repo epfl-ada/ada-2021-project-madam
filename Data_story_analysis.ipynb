{
 "cells": [
  {
   "cell_type": "markdown",
   "id": "579d5f83-5f2b-4c66-88d9-b431f81fc88e",
   "metadata": {},
   "source": [
    "**This is the final notebook for Milestone 3, where all the data analysis (besides the pre processing done in Milestone 2) is done.**"
   ]
  },
  {
   "cell_type": "code",
   "execution_count": 282,
   "id": "3bf194e9-851f-4f7d-b8df-0d92cc8ecde1",
   "metadata": {},
   "outputs": [
    {
     "name": "stdout",
     "output_type": "stream",
     "text": [
      "Requirement already satisfied: plotly in /Users/charneca/opt/anaconda3/lib/python3.9/site-packages (5.4.0)\n",
      "Requirement already satisfied: six in /Users/charneca/opt/anaconda3/lib/python3.9/site-packages (from plotly) (1.16.0)\n",
      "Requirement already satisfied: tenacity>=6.2.0 in /Users/charneca/opt/anaconda3/lib/python3.9/site-packages (from plotly) (8.0.1)\n"
     ]
    }
   ],
   "source": [
    "!pip install --upgrade plotly"
   ]
  },
  {
   "cell_type": "code",
   "execution_count": 1,
   "id": "1f9869f0-3c97-41a8-9607-7e687124bec3",
   "metadata": {
    "tags": []
   },
   "outputs": [
    {
     "name": "stdout",
     "output_type": "stream",
     "text": [
      "Collecting en-core-web-sm==3.2.0\n",
      "  Downloading https://github.com/explosion/spacy-models/releases/download/en_core_web_sm-3.2.0/en_core_web_sm-3.2.0-py3-none-any.whl (13.9 MB)\n",
      "\u001b[K     |████████████████████████████████| 13.9 MB 8.9 MB/s eta 0:00:01\n",
      "\u001b[?25hRequirement already satisfied: spacy<3.3.0,>=3.2.0 in /Users/charneca/opt/anaconda3/lib/python3.9/site-packages (from en-core-web-sm==3.2.0) (3.2.0)\n",
      "Requirement already satisfied: srsly<3.0.0,>=2.4.1 in /Users/charneca/opt/anaconda3/lib/python3.9/site-packages (from spacy<3.3.0,>=3.2.0->en-core-web-sm==3.2.0) (2.4.2)\n",
      "Requirement already satisfied: wasabi<1.1.0,>=0.8.1 in /Users/charneca/opt/anaconda3/lib/python3.9/site-packages (from spacy<3.3.0,>=3.2.0->en-core-web-sm==3.2.0) (0.9.0)\n",
      "Requirement already satisfied: langcodes<4.0.0,>=3.2.0 in /Users/charneca/opt/anaconda3/lib/python3.9/site-packages (from spacy<3.3.0,>=3.2.0->en-core-web-sm==3.2.0) (3.3.0)\n",
      "Requirement already satisfied: jinja2 in /Users/charneca/opt/anaconda3/lib/python3.9/site-packages (from spacy<3.3.0,>=3.2.0->en-core-web-sm==3.2.0) (2.11.3)\n",
      "Requirement already satisfied: setuptools in /Users/charneca/opt/anaconda3/lib/python3.9/site-packages (from spacy<3.3.0,>=3.2.0->en-core-web-sm==3.2.0) (58.0.4)\n",
      "Requirement already satisfied: preshed<3.1.0,>=3.0.2 in /Users/charneca/opt/anaconda3/lib/python3.9/site-packages (from spacy<3.3.0,>=3.2.0->en-core-web-sm==3.2.0) (3.0.6)\n",
      "Requirement already satisfied: pathy>=0.3.5 in /Users/charneca/opt/anaconda3/lib/python3.9/site-packages (from spacy<3.3.0,>=3.2.0->en-core-web-sm==3.2.0) (0.6.1)\n",
      "Requirement already satisfied: pydantic!=1.8,!=1.8.1,<1.9.0,>=1.7.4 in /Users/charneca/opt/anaconda3/lib/python3.9/site-packages (from spacy<3.3.0,>=3.2.0->en-core-web-sm==3.2.0) (1.8.2)\n",
      "Requirement already satisfied: cymem<2.1.0,>=2.0.2 in /Users/charneca/opt/anaconda3/lib/python3.9/site-packages (from spacy<3.3.0,>=3.2.0->en-core-web-sm==3.2.0) (2.0.6)\n",
      "Requirement already satisfied: tqdm<5.0.0,>=4.38.0 in /Users/charneca/opt/anaconda3/lib/python3.9/site-packages (from spacy<3.3.0,>=3.2.0->en-core-web-sm==3.2.0) (4.62.3)\n",
      "Requirement already satisfied: thinc<8.1.0,>=8.0.12 in /Users/charneca/opt/anaconda3/lib/python3.9/site-packages (from spacy<3.3.0,>=3.2.0->en-core-web-sm==3.2.0) (8.0.13)\n",
      "Requirement already satisfied: spacy-legacy<3.1.0,>=3.0.8 in /Users/charneca/opt/anaconda3/lib/python3.9/site-packages (from spacy<3.3.0,>=3.2.0->en-core-web-sm==3.2.0) (3.0.8)\n",
      "Requirement already satisfied: blis<0.8.0,>=0.4.0 in /Users/charneca/opt/anaconda3/lib/python3.9/site-packages (from spacy<3.3.0,>=3.2.0->en-core-web-sm==3.2.0) (0.7.5)\n",
      "Requirement already satisfied: spacy-loggers<2.0.0,>=1.0.0 in /Users/charneca/opt/anaconda3/lib/python3.9/site-packages (from spacy<3.3.0,>=3.2.0->en-core-web-sm==3.2.0) (1.0.1)\n",
      "Requirement already satisfied: typer<0.5.0,>=0.3.0 in /Users/charneca/opt/anaconda3/lib/python3.9/site-packages (from spacy<3.3.0,>=3.2.0->en-core-web-sm==3.2.0) (0.4.0)\n",
      "Requirement already satisfied: numpy>=1.15.0 in /Users/charneca/opt/anaconda3/lib/python3.9/site-packages (from spacy<3.3.0,>=3.2.0->en-core-web-sm==3.2.0) (1.21.4)\n",
      "Requirement already satisfied: catalogue<2.1.0,>=2.0.6 in /Users/charneca/opt/anaconda3/lib/python3.9/site-packages (from spacy<3.3.0,>=3.2.0->en-core-web-sm==3.2.0) (2.0.6)\n",
      "Requirement already satisfied: requests<3.0.0,>=2.13.0 in /Users/charneca/opt/anaconda3/lib/python3.9/site-packages (from spacy<3.3.0,>=3.2.0->en-core-web-sm==3.2.0) (2.26.0)\n",
      "Requirement already satisfied: packaging>=20.0 in /Users/charneca/opt/anaconda3/lib/python3.9/site-packages (from spacy<3.3.0,>=3.2.0->en-core-web-sm==3.2.0) (21.0)\n",
      "Requirement already satisfied: murmurhash<1.1.0,>=0.28.0 in /Users/charneca/opt/anaconda3/lib/python3.9/site-packages (from spacy<3.3.0,>=3.2.0->en-core-web-sm==3.2.0) (1.0.6)\n",
      "Requirement already satisfied: pyparsing>=2.0.2 in /Users/charneca/opt/anaconda3/lib/python3.9/site-packages (from packaging>=20.0->spacy<3.3.0,>=3.2.0->en-core-web-sm==3.2.0) (3.0.4)\n",
      "Requirement already satisfied: smart-open<6.0.0,>=5.0.0 in /Users/charneca/opt/anaconda3/lib/python3.9/site-packages (from pathy>=0.3.5->spacy<3.3.0,>=3.2.0->en-core-web-sm==3.2.0) (5.2.1)\n",
      "Requirement already satisfied: typing-extensions>=3.7.4.3 in /Users/charneca/opt/anaconda3/lib/python3.9/site-packages (from pydantic!=1.8,!=1.8.1,<1.9.0,>=1.7.4->spacy<3.3.0,>=3.2.0->en-core-web-sm==3.2.0) (3.10.0.2)\n",
      "Requirement already satisfied: certifi>=2017.4.17 in /Users/charneca/opt/anaconda3/lib/python3.9/site-packages (from requests<3.0.0,>=2.13.0->spacy<3.3.0,>=3.2.0->en-core-web-sm==3.2.0) (2021.10.8)\n",
      "Requirement already satisfied: urllib3<1.27,>=1.21.1 in /Users/charneca/opt/anaconda3/lib/python3.9/site-packages (from requests<3.0.0,>=2.13.0->spacy<3.3.0,>=3.2.0->en-core-web-sm==3.2.0) (1.26.7)\n",
      "Requirement already satisfied: charset-normalizer~=2.0.0 in /Users/charneca/opt/anaconda3/lib/python3.9/site-packages (from requests<3.0.0,>=2.13.0->spacy<3.3.0,>=3.2.0->en-core-web-sm==3.2.0) (2.0.4)\n",
      "Requirement already satisfied: idna<4,>=2.5 in /Users/charneca/opt/anaconda3/lib/python3.9/site-packages (from requests<3.0.0,>=2.13.0->spacy<3.3.0,>=3.2.0->en-core-web-sm==3.2.0) (3.2)\n",
      "Requirement already satisfied: click<9.0.0,>=7.1.1 in /Users/charneca/opt/anaconda3/lib/python3.9/site-packages (from typer<0.5.0,>=0.3.0->spacy<3.3.0,>=3.2.0->en-core-web-sm==3.2.0) (8.0.3)\n",
      "Requirement already satisfied: MarkupSafe>=0.23 in /Users/charneca/opt/anaconda3/lib/python3.9/site-packages (from jinja2->spacy<3.3.0,>=3.2.0->en-core-web-sm==3.2.0) (1.1.1)\n",
      "\u001b[38;5;2m✔ Download and installation successful\u001b[0m\n",
      "You can now load the package via spacy.load('en_core_web_sm')\n"
     ]
    }
   ],
   "source": [
    "import pandas as pd\n",
    "import pyarrow as pa\n",
    "import pyarrow.parquet as pq\n",
    "import numpy as np\n",
    "import matplotlib.pyplot as plt\n",
    "import matplotlib.dates as mdates\n",
    "import seaborn as sns\n",
    "import timeit\n",
    "import bz2\n",
    "import datetime\n",
    "import sys\n",
    "#from src.prep_utilities import * \n",
    "#from src.prep_pipeline import *\n",
    "\n",
    "# Load nltk models\n",
    "#!python ./src/load_models_data.py\n",
    "\n",
    "%matplotlib inline\n",
    "%load_ext autoreload\n",
    "%autoreload 2\n",
    "!python ./src/load_models_data.py\n",
    "data_folder = './data/'"
   ]
  },
  {
   "cell_type": "markdown",
   "id": "11d4b783-5da9-4b16-9509-02f235c96892",
   "metadata": {},
   "source": [
    "# General Gender Bias Analyses"
   ]
  },
  {
   "cell_type": "markdown",
   "id": "9303118b-78e0-4843-a49d-a32d742ee8c5",
   "metadata": {},
   "source": [
    "In this section, we plan to analyse:\n",
    " - Evolution of percentage of speakers by gender, over time\n",
    " - Evolution of percentage of quotations by gender, over time\n",
    " - Most quoted speakers by gender, over time"
   ]
  },
  {
   "cell_type": "markdown",
   "id": "b5dfe526-ce0b-46a1-a259-81af57e00d63",
   "metadata": {},
   "source": [
    "We'll do a month-by-month analysis. For each month/gender combination, we'll save a Dataframe with the speakers and their total number of quotations that month.\n"
   ]
  },
  {
   "cell_type": "code",
   "execution_count": 2,
   "id": "bb66d116-43d5-48a7-9b61-18e0caa774b3",
   "metadata": {},
   "outputs": [],
   "source": [
    "# Time ranges\n",
    "years = range(2015,2021)\n",
    "min_month = \"2015-01\"\n",
    "max_month = \"2020-04\"\n",
    "all_months = pd.period_range(min_month, max_month, freq='M')\n",
    "\n",
    "genders = ['male', 'female', 'transgender male', 'transgender female', 'non-binary', 'genderfluid']\n"
   ]
  },
  {
   "cell_type": "code",
   "execution_count": 352,
   "id": "595d55ad-2d98-4273-846c-7ed0f62656ce",
   "metadata": {},
   "outputs": [
    {
     "data": {
      "text/html": [
       "<div>\n",
       "<style scoped>\n",
       "    .dataframe tbody tr th:only-of-type {\n",
       "        vertical-align: middle;\n",
       "    }\n",
       "\n",
       "    .dataframe tbody tr th {\n",
       "        vertical-align: top;\n",
       "    }\n",
       "\n",
       "    .dataframe thead th {\n",
       "        text-align: right;\n",
       "    }\n",
       "</style>\n",
       "<table border=\"1\" class=\"dataframe\">\n",
       "  <thead>\n",
       "    <tr style=\"text-align: right;\">\n",
       "      <th></th>\n",
       "      <th>numOccurrences</th>\n",
       "    </tr>\n",
       "    <tr>\n",
       "      <th>speaker</th>\n",
       "      <th></th>\n",
       "    </tr>\n",
       "  </thead>\n",
       "  <tbody>\n",
       "  </tbody>\n",
       "</table>\n",
       "</div>"
      ],
      "text/plain": [
       "Empty DataFrame\n",
       "Columns: [numOccurrences]\n",
       "Index: []"
      ]
     },
     "execution_count": 352,
     "metadata": {},
     "output_type": "execute_result"
    }
   ],
   "source": [
    "# Create the dictionaries we'll use to store analysis\n",
    "\n",
    "speaker_df = {} # Save the dataframes of top speakers by gender/month\n",
    "\n",
    "for gender in genders:  \n",
    "    speakers_df_temp = {}\n",
    "    \n",
    "    for month in all_months:\n",
    "\n",
    "        speakers_df_temp[month] = pd.DataFrame([], columns = ['speaker', 'numOccurrences']).set_index('speaker')\n",
    "\n",
    "    speaker_df[gender] = speakers_df_temp\n",
    "    \n",
    "speaker_df['male'][all_months[0]]"
   ]
  },
  {
   "cell_type": "markdown",
   "id": "b9410e3e-bef4-49b8-a2d9-efe7de556318",
   "metadata": {},
   "source": [
    "The pre-processed data will be loaded each year, by chunks. In the analyses, we will cycle through each year, and through each chunk, and save the data."
   ]
  },
  {
   "cell_type": "code",
   "execution_count": 353,
   "id": "318cc39e-f9f2-4227-a606-b6d1821e93b3",
   "metadata": {
    "tags": []
   },
   "outputs": [
    {
     "name": "stdout",
     "output_type": "stream",
     "text": [
      "Analysing year 2015... Done in 1503.41s\n",
      "Analysing year 2016... Done in 878.96s\n",
      "Analysing year 2017... Done in 2293.26s\n",
      "Analysing year 2018... Done in 2267.08s\n",
      "Analysing year 2019... Done in 1588.40s\n",
      "Analysing year 2020... Done in 179.75s\n"
     ]
    }
   ],
   "source": [
    "# Loop through years\n",
    "for year in years:\n",
    "    start = timeit.default_timer()\n",
    "\n",
    "    # data location and chunk size\n",
    "    data_file = 'quotes-'+ str(year)+'-prep.json.bz2'\n",
    "    data_path = data_folder + data_file\n",
    "    chunk_size = 1e4\n",
    "\n",
    "    # Load by chunks\n",
    "    f = bz2.open(data_path, \"rb\")\n",
    "    data=pd.read_json(f, lines=True, chunksize=chunk_size)\n",
    "    \n",
    "    print(f\"Analysing year {year}...\", end=\" \")\n",
    "    \n",
    "\n",
    "    # Loop through chunks\n",
    "    for i_chunk, chunk in enumerate(data):\n",
    "        \n",
    "        ## Run analysis ##\n",
    "        \n",
    "        # Create range of months for this year\n",
    "        if year != 2020:\n",
    "            months = pd.period_range(str(year)+'-'+'01', str(year)+'-'+'12', freq='M')\n",
    "        else:\n",
    "            months = pd.period_range(str(year)+'-'+'01', str(year)+'-'+'04', freq='M')\n",
    "\n",
    "        # Loop through months\n",
    "        for month in months:\n",
    "            # Mask to select desired month\n",
    "            month_mask = (chunk['date'].dt.to_period('m') == month)\n",
    "            \n",
    "            # Loop through genders\n",
    "            for gender in genders:\n",
    "                \n",
    "                # Mask to select desired gender\n",
    "                gender_mask = (chunk['gender'] == gender)\n",
    "                \n",
    "                # Concatenate the speakers in this chunk with our dictionary\n",
    "                df = chunk[gender_mask & month_mask].groupby(\"speaker\").sum()\n",
    "                speaker_df[gender][month] = pd.concat([speaker_df[gender][month],df]).groupby(\"speaker\").sum()\n",
    "\n",
    "    stop = timeit.default_timer()\n",
    "    print(f\"Done in {stop-start:.2f}s\")\n",
    "        "
   ]
  },
  {
   "cell_type": "code",
   "execution_count": 354,
   "id": "60b744ec-e474-4b63-9dac-fad2997beb2f",
   "metadata": {},
   "outputs": [
    {
     "data": {
      "text/html": [
       "<div>\n",
       "<style scoped>\n",
       "    .dataframe tbody tr th:only-of-type {\n",
       "        vertical-align: middle;\n",
       "    }\n",
       "\n",
       "    .dataframe tbody tr th {\n",
       "        vertical-align: top;\n",
       "    }\n",
       "\n",
       "    .dataframe thead th {\n",
       "        text-align: right;\n",
       "    }\n",
       "</style>\n",
       "<table border=\"1\" class=\"dataframe\">\n",
       "  <thead>\n",
       "    <tr style=\"text-align: right;\">\n",
       "      <th></th>\n",
       "      <th>numOccurrences</th>\n",
       "    </tr>\n",
       "    <tr>\n",
       "      <th>speaker</th>\n",
       "      <th></th>\n",
       "    </tr>\n",
       "  </thead>\n",
       "  <tbody>\n",
       "    <tr>\n",
       "      <th>Natalie Cole</th>\n",
       "      <td>3318</td>\n",
       "    </tr>\n",
       "    <tr>\n",
       "      <th>Cheryl Boone Isaacs</th>\n",
       "      <td>435</td>\n",
       "    </tr>\n",
       "    <tr>\n",
       "      <th>Clover Moore</th>\n",
       "      <td>325</td>\n",
       "    </tr>\n",
       "    <tr>\n",
       "      <th>Jane Mayer</th>\n",
       "      <td>276</td>\n",
       "    </tr>\n",
       "    <tr>\n",
       "      <th>Gillian Armstrong</th>\n",
       "      <td>267</td>\n",
       "    </tr>\n",
       "    <tr>\n",
       "      <th>...</th>\n",
       "      <td>...</td>\n",
       "    </tr>\n",
       "    <tr>\n",
       "      <th>Cecilia Rodriguez</th>\n",
       "      <td>1</td>\n",
       "    </tr>\n",
       "    <tr>\n",
       "      <th>Mona Chalabi</th>\n",
       "      <td>1</td>\n",
       "    </tr>\n",
       "    <tr>\n",
       "      <th>Mona Charen</th>\n",
       "      <td>1</td>\n",
       "    </tr>\n",
       "    <tr>\n",
       "      <th>Catherine Zeta-Jones</th>\n",
       "      <td>1</td>\n",
       "    </tr>\n",
       "    <tr>\n",
       "      <th>Katherine Klein</th>\n",
       "      <td>1</td>\n",
       "    </tr>\n",
       "  </tbody>\n",
       "</table>\n",
       "<p>1745 rows × 1 columns</p>\n",
       "</div>"
      ],
      "text/plain": [
       "                      numOccurrences\n",
       "speaker                             \n",
       "Natalie Cole                    3318\n",
       "Cheryl Boone Isaacs              435\n",
       "Clover Moore                     325\n",
       "Jane Mayer                       276\n",
       "Gillian Armstrong                267\n",
       "...                              ...\n",
       "Cecilia Rodriguez                  1\n",
       "Mona Chalabi                       1\n",
       "Mona Charen                        1\n",
       "Catherine Zeta-Jones               1\n",
       "Katherine Klein                    1\n",
       "\n",
       "[1745 rows x 1 columns]"
      ]
     },
     "execution_count": 354,
     "metadata": {},
     "output_type": "execute_result"
    }
   ],
   "source": [
    "speaker_df['female'][all_months[12]].sort_values(by='numOccurrences', ascending = False)\n",
    "#speaker_df['male'][all_months[0]].sum()"
   ]
  },
  {
   "cell_type": "markdown",
   "id": "227a8e76-f638-4cd4-8cf6-004d20d50a2d",
   "metadata": {},
   "source": [
    "Since we don't want to run the previous cell everytime we reload the notebook, we'll save each of the gender/month combinations to a json file."
   ]
  },
  {
   "cell_type": "code",
   "execution_count": 355,
   "id": "96efe899-da28-4dee-8879-76aa0d5406ba",
   "metadata": {},
   "outputs": [],
   "source": [
    "general_analysis_folder = data_folder + '/general_analysis/'\n",
    "\n",
    "for gender in genders:\n",
    "    for month in all_months:\n",
    "        with bz2.open(general_analysis_folder + gender +'-' + str(month.year) + '-' + str(month.month) + '.json.bz2', \"w\") as f:\n",
    "\n",
    "            # Write to file, reset index to keep the speaker's names\n",
    "            write = speaker_df[gender][month].reset_index().to_json(f, lines=True, orient='records') \n",
    "### 2015,16,17 done"
   ]
  },
  {
   "cell_type": "markdown",
   "id": "5167305f-0efc-434f-a566-7016fe3a9b39",
   "metadata": {},
   "source": [
    "Now that we've created the files with the analysis data, let's read them again:"
   ]
  },
  {
   "cell_type": "code",
   "execution_count": 3,
   "id": "2c421df4-17b9-46d6-b13d-aa58cc34f28f",
   "metadata": {},
   "outputs": [],
   "source": [
    "speaker_df = {} # Load the dataframes of top speakers by gender/month\n",
    "general_analysis_folder = data_folder + '/general_analysis/'\n",
    "\n",
    "for gender in genders:  \n",
    "    speakers_df_temp = {}\n",
    "    \n",
    "    for month in all_months:\n",
    "        speakers_df_temp[month] = pd.read_json(general_analysis_folder + gender +'-' + str(month.year) + '-' + str(month.month) + '.json.bz2', lines = True,compression = 'bz2')\n",
    "        \n",
    "        # Join rows of presidential aliases (President Trump, Donald Trump, etc...)\n",
    "        speakers_df_temp[month] = speakers_df_temp[month].replace([\"President Barack Obama\", \"President Obama\"], \"Barack Obama\")\n",
    "        speakers_df_temp[month] = speakers_df_temp[month].replace([\"President Donald Trump\", \"President Trump\"], \"Donald Trump\")\n",
    "        speakers_df_temp[month] = speakers_df_temp[month].groupby('speaker').sum().reset_index()\n",
    "\n",
    "    speaker_df[gender] = speakers_df_temp\n"
   ]
  },
  {
   "cell_type": "code",
   "execution_count": 4,
   "id": "2a6514a8",
   "metadata": {},
   "outputs": [],
   "source": [
    "### TEST\n",
    "speaker, num = speaker_df['female'][all_months[0]].sort_values(by='numOccurrences', ascending = False).iloc[0]\n",
    "\n",
    "#speaker_df['male'][all_months[0]][speaker_df['male'][all_months[0]]['speaker'].isin(['President Barack Obama', 'President Obama'])].sum()\n",
    "#speaker_df['male'][all_months[0]].replace([\"President Barack Obama\", \"President Obama\"], \"Barack Obama\").groupby('speaker').sum().sort_values(by='numOccurrences', ascending = False)\n"
   ]
  },
  {
   "cell_type": "markdown",
   "id": "c4f3df3b-023d-423b-8776-92465630fb02",
   "metadata": {},
   "source": [
    "## Plots\n"
   ]
  },
  {
   "cell_type": "markdown",
   "id": "07593b46",
   "metadata": {},
   "source": [
    "### Percentage of quotations and speakers by gender\n",
    "\n",
    "We will use the package `plotly` to make an interactive plot with our data in the cells below.\n",
    "\n",
    "To view the plot, double click `plotly/general_quotations_speakers.html`.\n",
    "\n",
    "First, we create DataFrames to hold the plot data, and then we plot it."
   ]
  },
  {
   "cell_type": "code",
   "execution_count": 5,
   "id": "4d78614a-4a87-4ad1-9ea8-496f23c81615",
   "metadata": {},
   "outputs": [],
   "source": [
    "## Prepare data to be plotted ##\n",
    "\n",
    "# x data\n",
    "month_str = [str(month.year)+'-'+str(month.month) for month in all_months]\n",
    "month_dt = [datetime.datetime.strptime(x, '%Y-%m') for x in month_str]\n",
    "\n",
    "# y data\n",
    "total_quotations = {} # total quotations by month\n",
    "total_speakers = {} # total number of speakers by month\n",
    "\n",
    "for month in all_months:\n",
    "    total_quotations[month] = 0\n",
    "    total_speakers[month] = 0\n",
    "\n",
    "    for gender in genders:\n",
    "        total_quotations[month] += speaker_df[gender][month]['numOccurrences'].sum()\n",
    "        total_speakers[month] += len(speaker_df[gender][month])\n",
    "\n",
    "perc_quotations = pd.DataFrame([], columns = genders) # df with the dates and percentage of quotations by gender\n",
    "perc_speakers =  pd.DataFrame([], columns = genders) # df with the dates and percentage of speakers by gender\n",
    "\n",
    "for i,month in enumerate(all_months):\n",
    "    perc_quotations.loc[i] = [100*speaker_df[gender][month]['numOccurrences'].sum()/total_quotations[month] for gender in genders]\n",
    "    perc_speakers.loc[i] = [100*len(speaker_df[gender][month])/total_speakers[month] for gender in genders]\n",
    "    \n",
    "perc_quotations['date'] = month_dt # Dates for x axis\n",
    "perc_speakers['date'] = month_dt\n"
   ]
  },
  {
   "cell_type": "code",
   "execution_count": 16,
   "id": "412584b2",
   "metadata": {},
   "outputs": [],
   "source": [
    "import plotly.express as px\n",
    "import plotly.graph_objects as go\n",
    "\n",
    "# Color palette\n",
    "palette = px.colors.qualitative.Plotly\n",
    "\n",
    "# Create figure\n",
    "fig = go.Figure()\n",
    "fig.update_layout(title = 'Percentage of Quotations by Gender')\n",
    "fig.update_xaxes(title='Date')\n",
    "fig.update_yaxes(title='Percentage')\n",
    "\n",
    "# Add plots (they have to be added by order, in order not to mess up the 'visible' lists)\n",
    "for i,gender in enumerate(genders):\n",
    "    fig.add_trace(\n",
    "        go.Scatter(x = perc_quotations['date'], y = perc_quotations[gender], name = gender, mode='lines', line=dict(color=palette[i], width=3))\n",
    "        )\n",
    "\n",
    "for i,gender in enumerate(genders):\n",
    "    fig.add_trace(\n",
    "        go.Scatter(x = perc_speakers['date'], y = perc_speakers[gender], name = gender, mode='lines', line=dict(color=palette[i], width=3), visible=False)\n",
    "        )\n",
    "\n",
    "\n",
    "visible_quotations = [True if i<6 else False for i in range(12)]\n",
    "visible_speakers = [not x for x in visible_quotations]\n",
    "\n",
    "# Add dropdown menu\n",
    "fig.update_layout(\n",
    "    updatemenus=[go.layout.Updatemenu(\n",
    "        active=0,\n",
    "        buttons=list(\n",
    "            [dict(label = 'Quotations',\n",
    "                  method = 'update',\n",
    "                  args = [{'visible': visible_quotations},\n",
    "                          {'title': 'Percentage of Quotations by Gender',\n",
    "                           'showlegend':True}]),\n",
    "             dict(label = 'Speakers',\n",
    "                  method = 'update',\n",
    "                  args = [{'visible': visible_speakers}, # the index of True aligns with the indices of plot traces\n",
    "                          {'title': 'Percentage of Speakers by Gender',\n",
    "                           'showlegend':True}]),\n",
    "            ])\n",
    "        )\n",
    "    ])\n",
    "\n",
    "# Add x range slider\n",
    "fig.update_layout(\n",
    "    xaxis=dict(\n",
    "        rangeslider=dict(\n",
    "            visible=True\n",
    "        ),\n",
    "        type=\"date\"\n",
    "    ),\n",
    "    autosize=False,\n",
    "    width=1200,\n",
    "    height=700\n",
    ")\n",
    "\n",
    "fig.write_html(\"plotly/general_quotations_speakers.html\")\n"
   ]
  },
  {
   "cell_type": "markdown",
   "id": "e868cf9e",
   "metadata": {},
   "source": [
    "### Top speakers by gender/month plot\n",
    "\n",
    "Once again, we'll use `plotly` for the interactive plot for the highest quoted speaker by gender, in each month.\n",
    "\n",
    "For this, we'll create a new DataFrame with columns `gender`, `speaker`, `date` and `quotations` (which is the same as `numOccurrences`)."
   ]
  },
  {
   "cell_type": "code",
   "execution_count": 6,
   "id": "80aaba6e",
   "metadata": {},
   "outputs": [],
   "source": [
    "top_speakers_df = pd.DataFrame([], columns = ['gender', 'speaker', 'date', 'quotations'])\n",
    "\n",
    "i = 0\n",
    "for gender in genders:\n",
    "    for j,month in enumerate(all_months):\n",
    "\n",
    "         # Get top speaker by gender/month\n",
    "         speaker, occurrences = speaker_df[gender][month].sort_values(by='numOccurrences', ascending = False).iloc[0]\n",
    "         top_speakers_df.loc[i] = [gender, speaker, month_str[j], int(occurrences)]\n",
    "         i+=1\n",
    "    i+=1\n",
    "\n",
    "# Convert numOccurrences column to int\n",
    "top_speakers_df.quotations = top_speakers_df.quotations.astype(int)\n",
    "\n",
    "# Add column of zeros for plot\n",
    "top_speakers_df['yaxis'] = [0]*len(top_speakers_df)"
   ]
  },
  {
   "cell_type": "code",
   "execution_count": 331,
   "id": "274ea918",
   "metadata": {},
   "outputs": [
    {
     "data": {
      "text/html": [
       "<div>\n",
       "<style scoped>\n",
       "    .dataframe tbody tr th:only-of-type {\n",
       "        vertical-align: middle;\n",
       "    }\n",
       "\n",
       "    .dataframe tbody tr th {\n",
       "        vertical-align: top;\n",
       "    }\n",
       "\n",
       "    .dataframe thead th {\n",
       "        text-align: right;\n",
       "    }\n",
       "</style>\n",
       "<table border=\"1\" class=\"dataframe\">\n",
       "  <thead>\n",
       "    <tr style=\"text-align: right;\">\n",
       "      <th></th>\n",
       "      <th>gender</th>\n",
       "      <th>speaker</th>\n",
       "      <th>date</th>\n",
       "      <th>quotations</th>\n",
       "      <th>yaxis</th>\n",
       "    </tr>\n",
       "  </thead>\n",
       "  <tbody>\n",
       "    <tr>\n",
       "      <th>0</th>\n",
       "      <td>male</td>\n",
       "      <td>Barack Obama</td>\n",
       "      <td>2015-1</td>\n",
       "      <td>37099</td>\n",
       "      <td>0</td>\n",
       "    </tr>\n",
       "    <tr>\n",
       "      <th>1</th>\n",
       "      <td>male</td>\n",
       "      <td>Barack Obama</td>\n",
       "      <td>2015-2</td>\n",
       "      <td>32215</td>\n",
       "      <td>0</td>\n",
       "    </tr>\n",
       "    <tr>\n",
       "      <th>2</th>\n",
       "      <td>male</td>\n",
       "      <td>Jesus `` Chuy '' Garcia</td>\n",
       "      <td>2015-3</td>\n",
       "      <td>33467</td>\n",
       "      <td>0</td>\n",
       "    </tr>\n",
       "    <tr>\n",
       "      <th>3</th>\n",
       "      <td>male</td>\n",
       "      <td>Barack Obama</td>\n",
       "      <td>2015-4</td>\n",
       "      <td>27154</td>\n",
       "      <td>0</td>\n",
       "    </tr>\n",
       "    <tr>\n",
       "      <th>4</th>\n",
       "      <td>male</td>\n",
       "      <td>Barack Obama</td>\n",
       "      <td>2015-5</td>\n",
       "      <td>14155</td>\n",
       "      <td>0</td>\n",
       "    </tr>\n",
       "    <tr>\n",
       "      <th>...</th>\n",
       "      <td>...</td>\n",
       "      <td>...</td>\n",
       "      <td>...</td>\n",
       "      <td>...</td>\n",
       "      <td>...</td>\n",
       "    </tr>\n",
       "    <tr>\n",
       "      <th>384</th>\n",
       "      <td>genderfluid</td>\n",
       "      <td>Miley Cyrus</td>\n",
       "      <td>2019-12</td>\n",
       "      <td>347</td>\n",
       "      <td>0</td>\n",
       "    </tr>\n",
       "    <tr>\n",
       "      <th>385</th>\n",
       "      <td>genderfluid</td>\n",
       "      <td>Miley Cyrus</td>\n",
       "      <td>2020-1</td>\n",
       "      <td>180</td>\n",
       "      <td>0</td>\n",
       "    </tr>\n",
       "    <tr>\n",
       "      <th>386</th>\n",
       "      <td>genderfluid</td>\n",
       "      <td>Miley Cyrus</td>\n",
       "      <td>2020-2</td>\n",
       "      <td>132</td>\n",
       "      <td>0</td>\n",
       "    </tr>\n",
       "    <tr>\n",
       "      <th>387</th>\n",
       "      <td>genderfluid</td>\n",
       "      <td>Miley Cyrus</td>\n",
       "      <td>2020-3</td>\n",
       "      <td>1147</td>\n",
       "      <td>0</td>\n",
       "    </tr>\n",
       "    <tr>\n",
       "      <th>388</th>\n",
       "      <td>genderfluid</td>\n",
       "      <td>Miley Cyrus</td>\n",
       "      <td>2020-4</td>\n",
       "      <td>230</td>\n",
       "      <td>0</td>\n",
       "    </tr>\n",
       "  </tbody>\n",
       "</table>\n",
       "<p>384 rows × 5 columns</p>\n",
       "</div>"
      ],
      "text/plain": [
       "          gender                  speaker     date  quotations  yaxis\n",
       "0           male             Barack Obama   2015-1       37099      0\n",
       "1           male             Barack Obama   2015-2       32215      0\n",
       "2           male  Jesus `` Chuy '' Garcia   2015-3       33467      0\n",
       "3           male             Barack Obama   2015-4       27154      0\n",
       "4           male             Barack Obama   2015-5       14155      0\n",
       "..           ...                      ...      ...         ...    ...\n",
       "384  genderfluid              Miley Cyrus  2019-12         347      0\n",
       "385  genderfluid              Miley Cyrus   2020-1         180      0\n",
       "386  genderfluid              Miley Cyrus   2020-2         132      0\n",
       "387  genderfluid              Miley Cyrus   2020-3        1147      0\n",
       "388  genderfluid              Miley Cyrus   2020-4         230      0\n",
       "\n",
       "[384 rows x 5 columns]"
      ]
     },
     "execution_count": 331,
     "metadata": {},
     "output_type": "execute_result"
    }
   ],
   "source": [
    "top_speakers_df"
   ]
  },
  {
   "cell_type": "code",
   "execution_count": 12,
   "id": "74cc57f8",
   "metadata": {},
   "outputs": [],
   "source": [
    "fig = px.scatter(\n",
    "    top_speakers_df, \n",
    "    x='gender', \n",
    "    y = 'yaxis', \n",
    "    size = 'quotations', \n",
    "    animation_frame='date', \n",
    "    text = 'speaker',\n",
    "    hover_name='speaker',\n",
    "    hover_data={'gender':False, 'yaxis':False, 'speaker':False, 'quotations':True, 'date':True},\n",
    "    color='gender',\n",
    "    size_max=200,\n",
    "    title='Highest Quoted Speakers',\n",
    "    width=1200,\n",
    "    height=700\n",
    ")\n",
    "\n",
    "#fig[\"layout\"].pop(\"updatemenus\") # optional, drop animation buttons\n",
    "fig.update_traces(textposition='top center', textfont_size=15) # Change position of text above bubbles\n",
    "fig.update_layout(uniformtext_minsize=40, uniformtext_mode='hide')\n",
    "\n",
    "fig.update_layout(\n",
    "    yaxis=dict( # Disable yaxis\n",
    "        visible = False\n",
    "    ),\n",
    "    xaxis=dict( # Remove xaxis title\n",
    "        title=''\n",
    "    ),\n",
    "    hoverlabel=dict( # Change font on hover tool\n",
    "        font_size=16,\n",
    "    )\n",
    ")\n",
    "\n",
    "fig.write_html(\"plotly/top_speakers.html\")\n"
   ]
  },
  {
   "cell_type": "code",
   "execution_count": 302,
   "id": "1f5ed0c5",
   "metadata": {},
   "outputs": [
    {
     "data": {
      "text/plain": [
       "0        8425333\n",
       "1        9240934\n",
       "2       10267083\n",
       "3       11537966\n",
       "4       13079460\n",
       "          ...   \n",
       "1699     9216418\n",
       "1700    10704340\n",
       "1701    11404948\n",
       "1702    11926563\n",
       "1703    12311143\n",
       "Name: pop, Length: 1704, dtype: int64"
      ]
     },
     "execution_count": 302,
     "metadata": {},
     "output_type": "execute_result"
    }
   ],
   "source": [
    "px.data.gapminder()['pop']\n"
   ]
  },
  {
   "cell_type": "code",
   "execution_count": 306,
   "id": "61dd7539",
   "metadata": {},
   "outputs": [
    {
     "data": {
      "text/plain": [
       "0      37099\n",
       "1      32215\n",
       "2      33467\n",
       "3      27154\n",
       "4      14155\n",
       "       ...  \n",
       "384      347\n",
       "385      180\n",
       "386      132\n",
       "387     1147\n",
       "388      230\n",
       "Name: numOccurrences, Length: 384, dtype: int64"
      ]
     },
     "execution_count": 306,
     "metadata": {},
     "output_type": "execute_result"
    }
   ],
   "source": [
    "top_speakers_df['numOccurrences']"
   ]
  },
  {
   "cell_type": "code",
   "execution_count": null,
   "id": "bb81618e",
   "metadata": {},
   "outputs": [],
   "source": []
  }
 ],
 "metadata": {
  "kernelspec": {
   "display_name": "Python 3 (ipykernel)",
   "language": "python",
   "name": "python3"
  },
  "language_info": {
   "codemirror_mode": {
    "name": "ipython",
    "version": 3
   },
   "file_extension": ".py",
   "mimetype": "text/x-python",
   "name": "python",
   "nbconvert_exporter": "python",
   "pygments_lexer": "ipython3",
   "version": "3.9.7"
  }
 },
 "nbformat": 4,
 "nbformat_minor": 5
}
