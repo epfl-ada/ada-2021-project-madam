{
 "cells": [
  {
   "cell_type": "markdown",
   "id": "e2168ee4-97ea-49f7-a45f-1bfe4d2c5043",
   "metadata": {},
   "source": [
    "# Pre-processing quotes files"
   ]
  },
  {
   "cell_type": "markdown",
   "id": "8c606d40-5dce-4c5a-93d0-1d0c470a302d",
   "metadata": {},
   "source": [
    "This notebook is for processing the quotes files into the processed files (tokenized, with genders, etc.)."
   ]
  },
  {
   "cell_type": "code",
   "execution_count": 13,
   "id": "e770d19a-5237-424e-9c7f-0cf673cff3b6",
   "metadata": {
    "collapsed": true,
    "jupyter": {
     "outputs_hidden": true
    },
    "tags": []
   },
   "outputs": [
    {
     "name": "stdout",
     "output_type": "stream",
     "text": [
      "Collecting gensim\n",
      "  Downloading gensim-4.1.2-cp38-cp38-win_amd64.whl (24.0 MB)\n",
      "Requirement already satisfied: Cython==0.29.23 in c:\\users\\asus\\anaconda3\\lib\\site-packages (from gensim) (0.29.23)\n",
      "Requirement already satisfied: numpy>=1.17.0 in c:\\users\\asus\\anaconda3\\lib\\site-packages (from gensim) (1.21.2)\n",
      "Requirement already satisfied: smart-open>=1.8.1 in c:\\users\\asus\\anaconda3\\lib\\site-packages (from gensim) (5.2.1)\n",
      "Requirement already satisfied: scipy>=0.18.1 in c:\\users\\asus\\anaconda3\\lib\\site-packages (from gensim) (1.6.2)\n",
      "Installing collected packages: gensim\n",
      "Successfully installed gensim-4.1.2\n"
     ]
    },
    {
     "name": "stderr",
     "output_type": "stream",
     "text": [
      "find: '/I': No such file or directory\n",
      "find: '/N': No such file or directory\n",
      "find: 'FirewallModule.exe': No such file or directory\n"
     ]
    }
   ],
   "source": [
    "!pip install gensim"
   ]
  },
  {
   "cell_type": "code",
   "execution_count": 1,
   "id": "3f7c6759-ea91-4a8b-aa21-e1a739319d55",
   "metadata": {
    "collapsed": true,
    "jupyter": {
     "outputs_hidden": true
    },
    "tags": []
   },
   "outputs": [
    {
     "name": "stdout",
     "output_type": "stream",
     "text": [
      "Collecting en-core-web-sm==3.2.0\n",
      "  Downloading https://github.com/explosion/spacy-models/releases/download/en_core_web_sm-3.2.0/en_core_web_sm-3.2.0-py3-none-any.whl (13.9 MB)\n",
      "Requirement already satisfied: spacy<3.3.0,>=3.2.0 in c:\\users\\asus\\anaconda3\\lib\\site-packages (from en-core-web-sm==3.2.0) (3.2.0)\n",
      "Requirement already satisfied: requests<3.0.0,>=2.13.0 in c:\\users\\asus\\anaconda3\\lib\\site-packages (from spacy<3.3.0,>=3.2.0->en-core-web-sm==3.2.0) (2.25.1)\n",
      "Requirement already satisfied: typer<0.5.0,>=0.3.0 in c:\\users\\asus\\anaconda3\\lib\\site-packages (from spacy<3.3.0,>=3.2.0->en-core-web-sm==3.2.0) (0.4.0)\n",
      "Requirement already satisfied: pathy>=0.3.5 in c:\\users\\asus\\anaconda3\\lib\\site-packages (from spacy<3.3.0,>=3.2.0->en-core-web-sm==3.2.0) (0.6.1)\n",
      "Requirement already satisfied: setuptools in c:\\users\\asus\\anaconda3\\lib\\site-packages (from spacy<3.3.0,>=3.2.0->en-core-web-sm==3.2.0) (52.0.0.post20210125)\n",
      "Requirement already satisfied: murmurhash<1.1.0,>=0.28.0 in c:\\users\\asus\\anaconda3\\lib\\site-packages (from spacy<3.3.0,>=3.2.0->en-core-web-sm==3.2.0) (1.0.6)\n",
      "Requirement already satisfied: langcodes<4.0.0,>=3.2.0 in c:\\users\\asus\\anaconda3\\lib\\site-packages (from spacy<3.3.0,>=3.2.0->en-core-web-sm==3.2.0) (3.3.0)\n",
      "Requirement already satisfied: pydantic!=1.8,!=1.8.1,<1.9.0,>=1.7.4 in c:\\users\\asus\\anaconda3\\lib\\site-packages (from spacy<3.3.0,>=3.2.0->en-core-web-sm==3.2.0) (1.8.2)\n",
      "Requirement already satisfied: wasabi<1.1.0,>=0.8.1 in c:\\users\\asus\\anaconda3\\lib\\site-packages (from spacy<3.3.0,>=3.2.0->en-core-web-sm==3.2.0) (0.8.2)\n",
      "Requirement already satisfied: srsly<3.0.0,>=2.4.1 in c:\\users\\asus\\anaconda3\\lib\\site-packages (from spacy<3.3.0,>=3.2.0->en-core-web-sm==3.2.0) (2.4.2)\n",
      "Requirement already satisfied: catalogue<2.1.0,>=2.0.6 in c:\\users\\asus\\anaconda3\\lib\\site-packages (from spacy<3.3.0,>=3.2.0->en-core-web-sm==3.2.0) (2.0.6)\n",
      "Requirement already satisfied: preshed<3.1.0,>=3.0.2 in c:\\users\\asus\\anaconda3\\lib\\site-packages (from spacy<3.3.0,>=3.2.0->en-core-web-sm==3.2.0) (3.0.6)\n",
      "Requirement already satisfied: thinc<8.1.0,>=8.0.12 in c:\\users\\asus\\anaconda3\\lib\\site-packages (from spacy<3.3.0,>=3.2.0->en-core-web-sm==3.2.0) (8.0.13)\n",
      "Requirement already satisfied: jinja2 in c:\\users\\asus\\anaconda3\\lib\\site-packages (from spacy<3.3.0,>=3.2.0->en-core-web-sm==3.2.0) (2.11.3)\n",
      "Requirement already satisfied: packaging>=20.0 in c:\\users\\asus\\anaconda3\\lib\\site-packages (from spacy<3.3.0,>=3.2.0->en-core-web-sm==3.2.0) (20.9)\n",
      "Requirement already satisfied: spacy-legacy<3.1.0,>=3.0.8 in c:\\users\\asus\\anaconda3\\lib\\site-packages (from spacy<3.3.0,>=3.2.0->en-core-web-sm==3.2.0) (3.0.8)\n",
      "Requirement already satisfied: cymem<2.1.0,>=2.0.2 in c:\\users\\asus\\anaconda3\\lib\\site-packages (from spacy<3.3.0,>=3.2.0->en-core-web-sm==3.2.0) (2.0.6)\n",
      "Requirement already satisfied: spacy-loggers<2.0.0,>=1.0.0 in c:\\users\\asus\\anaconda3\\lib\\site-packages (from spacy<3.3.0,>=3.2.0->en-core-web-sm==3.2.0) (1.0.1)\n",
      "Requirement already satisfied: numpy>=1.15.0 in c:\\users\\asus\\anaconda3\\lib\\site-packages (from spacy<3.3.0,>=3.2.0->en-core-web-sm==3.2.0) (1.21.2)\n",
      "Requirement already satisfied: tqdm<5.0.0,>=4.38.0 in c:\\users\\asus\\anaconda3\\lib\\site-packages (from spacy<3.3.0,>=3.2.0->en-core-web-sm==3.2.0) (4.59.0)\n",
      "Requirement already satisfied: blis<0.8.0,>=0.4.0 in c:\\users\\asus\\anaconda3\\lib\\site-packages (from spacy<3.3.0,>=3.2.0->en-core-web-sm==3.2.0) (0.7.5)\n",
      "Requirement already satisfied: pyparsing>=2.0.2 in c:\\users\\asus\\anaconda3\\lib\\site-packages (from packaging>=20.0->spacy<3.3.0,>=3.2.0->en-core-web-sm==3.2.0) (2.4.7)\n",
      "Requirement already satisfied: smart-open<6.0.0,>=5.0.0 in c:\\users\\asus\\anaconda3\\lib\\site-packages (from pathy>=0.3.5->spacy<3.3.0,>=3.2.0->en-core-web-sm==3.2.0) (5.2.1)\n",
      "Requirement already satisfied: typing-extensions>=3.7.4.3 in c:\\users\\asus\\anaconda3\\lib\\site-packages (from pydantic!=1.8,!=1.8.1,<1.9.0,>=1.7.4->spacy<3.3.0,>=3.2.0->en-core-web-sm==3.2.0) (3.7.4.3)\n",
      "Requirement already satisfied: idna<3,>=2.5 in c:\\users\\asus\\anaconda3\\lib\\site-packages (from requests<3.0.0,>=2.13.0->spacy<3.3.0,>=3.2.0->en-core-web-sm==3.2.0) (2.10)\n",
      "Requirement already satisfied: certifi>=2017.4.17 in c:\\users\\asus\\anaconda3\\lib\\site-packages (from requests<3.0.0,>=2.13.0->spacy<3.3.0,>=3.2.0->en-core-web-sm==3.2.0) (2020.12.5)\n",
      "Requirement already satisfied: chardet<5,>=3.0.2 in c:\\users\\asus\\anaconda3\\lib\\site-packages (from requests<3.0.0,>=2.13.0->spacy<3.3.0,>=3.2.0->en-core-web-sm==3.2.0) (4.0.0)\n",
      "Requirement already satisfied: urllib3<1.27,>=1.21.1 in c:\\users\\asus\\anaconda3\\lib\\site-packages (from requests<3.0.0,>=2.13.0->spacy<3.3.0,>=3.2.0->en-core-web-sm==3.2.0) (1.26.4)\n",
      "Requirement already satisfied: click<9.0.0,>=7.1.1 in c:\\users\\asus\\anaconda3\\lib\\site-packages (from typer<0.5.0,>=0.3.0->spacy<3.3.0,>=3.2.0->en-core-web-sm==3.2.0) (7.1.2)\n",
      "Requirement already satisfied: MarkupSafe>=0.23 in c:\\users\\asus\\anaconda3\\lib\\site-packages (from jinja2->spacy<3.3.0,>=3.2.0->en-core-web-sm==3.2.0) (1.1.1)\n",
      "[+] Download and installation successful\n",
      "You can now load the package via spacy.load('en_core_web_sm')\n"
     ]
    },
    {
     "name": "stderr",
     "output_type": "stream",
     "text": [
      "find: '/I': No such file or directory\n",
      "find: '/N': No such file or directory\n",
      "find: 'FirewallModule.exe': No such file or directory\n"
     ]
    }
   ],
   "source": [
    "import pandas as pd\n",
    "import pyarrow as pa\n",
    "import pyarrow.parquet as pq\n",
    "import numpy as np\n",
    "import matplotlib.pyplot as plt\n",
    "import matplotlib.dates as mdates\n",
    "import seaborn as sns\n",
    "import timeit\n",
    "import bz2\n",
    "import datetime\n",
    "import os\n",
    "from src.prep_utilities import * \n",
    "from src.prep_pipeline import *\n",
    "\n",
    "%matplotlib inline\n",
    "%load_ext autoreload\n",
    "%autoreload 2\n",
    "!python ./src/load_models_data.py\n",
    "data_folder = './data/'"
   ]
  },
  {
   "cell_type": "markdown",
   "id": "f2e54fde-3ed6-497b-a1f4-1067f9d1fdb3",
   "metadata": {},
   "source": [
    "## Load speaker attributes (processed)"
   ]
  },
  {
   "cell_type": "code",
   "execution_count": 2,
   "id": "f490f8cc-e5dd-4d88-b67a-f2fb74fbb799",
   "metadata": {},
   "outputs": [],
   "source": [
    "# Load parquet file\n",
    "speaker_attributes = pd.read_parquet(data_folder + 'speaker_attributes_processed.parquet')"
   ]
  },
  {
   "cell_type": "markdown",
   "id": "435c52c6-2b86-44a7-9347-be52022e7629",
   "metadata": {},
   "source": [
    "## Pre-process quotes by chunks"
   ]
  },
  {
   "cell_type": "markdown",
   "id": "c8226312-cf93-4e78-bf62-757b26d8cc27",
   "metadata": {},
   "source": [
    "Preferences"
   ]
  },
  {
   "cell_type": "code",
   "execution_count": 3,
   "id": "8626f143-839e-4bdc-9b2a-4c63d8ad514f",
   "metadata": {},
   "outputs": [],
   "source": [
    "year = 2015 #change this for each year\n",
    "data_file = 'quotes-'+ str(year)+'.json.bz2'\n",
    "data_path = data_folder + data_file\n",
    "chunk_size = 1000"
   ]
  },
  {
   "cell_type": "markdown",
   "id": "193464fc-8781-4dfd-aa44-3ce6d8679a4c",
   "metadata": {},
   "source": [
    "Process by chunks to `.parquet` file."
   ]
  },
  {
   "cell_type": "code",
   "execution_count": 4,
   "id": "f4648325-2cbf-48cc-a631-2812bb1b4c87",
   "metadata": {},
   "outputs": [],
   "source": [
    "# Load by chunks\n",
    "f = bz2.open(data_path, \"rb\")\n",
    "data=pd.read_json(f, lines=True, chunksize=chunk_size)"
   ]
  },
  {
   "cell_type": "code",
   "execution_count": null,
   "id": "6b820176-2e48-4337-bf6a-462cb0cd8d2a",
   "metadata": {},
   "outputs": [
    {
     "name": "stdout",
     "output_type": "stream",
     "text": [
      "Time since last: 0.1s\n",
      "\n",
      "Pre-processing chunks 0-99\n"
     ]
    },
    {
     "name": "stderr",
     "output_type": "stream",
     "text": [
      "D:\\CSE EPFL\\Applied Data Analysis\\ada-2021-project-madam\\src\\prep_pipeline.py:37: SettingWithCopyWarning: \n",
      "A value is trying to be set on a copy of a slice from a DataFrame.\n",
      "Try using .loc[row_indexer,col_indexer] = value instead\n",
      "\n",
      "See the caveats in the documentation: https://pandas.pydata.org/pandas-docs/stable/user_guide/indexing.html#returning-a-view-versus-a-copy\n",
      "  copy_doc['date'] = copy_doc['date'].apply(lambda x: get_yyyy_mm(x))\n",
      "D:\\CSE EPFL\\Applied Data Analysis\\ada-2021-project-madam\\src\\prep_pipeline.py:41: SettingWithCopyWarning: \n",
      "A value is trying to be set on a copy of a slice from a DataFrame.\n",
      "Try using .loc[row_indexer,col_indexer] = value instead\n",
      "\n",
      "See the caveats in the documentation: https://pandas.pydata.org/pandas-docs/stable/user_guide/indexing.html#returning-a-view-versus-a-copy\n",
      "  copy_doc['tokens'] = copy_doc['quotation'].apply(\n"
     ]
    },
    {
     "name": "stdout",
     "output_type": "stream",
     "text": [
      "Time since last: 218.1s\n",
      "\n",
      "Pre-processing chunks 100-199\n",
      "Time since last: 201.5s\n",
      "\n",
      "Pre-processing chunks 200-299\n",
      "Time since last: 202.4s\n",
      "\n",
      "Pre-processing chunks 300-399\n",
      "Time since last: 202.6s\n",
      "\n",
      "Pre-processing chunks 400-499\n",
      "Time since last: 212.2s\n",
      "\n",
      "Pre-processing chunks 500-599\n",
      "Time since last: 199.0s\n",
      "\n",
      "Pre-processing chunks 600-699\n",
      "Time since last: 207.8s\n",
      "\n",
      "Pre-processing chunks 700-799\n",
      "Time since last: 199.2s\n",
      "\n",
      "Pre-processing chunks 800-899\n",
      "Time since last: 202.5s\n",
      "\n",
      "Pre-processing chunks 900-999\n",
      "Time since last: 200.2s\n",
      "\n",
      "Pre-processing chunks 1000-1099\n",
      "Time since last: 251.9s\n",
      "\n",
      "Pre-processing chunks 1100-1199\n",
      "Time since last: 206.9s\n",
      "\n",
      "Pre-processing chunks 1200-1299\n",
      "Time since last: 196.5s\n",
      "\n",
      "Pre-processing chunks 1300-1399\n",
      "Time since last: 195.3s\n",
      "\n",
      "Pre-processing chunks 1400-1499\n",
      "Time since last: 195.2s\n",
      "\n",
      "Pre-processing chunks 1500-1599\n",
      "Time since last: 205.5s\n",
      "\n",
      "Pre-processing chunks 1600-1699\n",
      "Time since last: 225.1s\n",
      "\n",
      "Pre-processing chunks 1700-1799\n",
      "Time since last: 243.2s\n",
      "\n",
      "Pre-processing chunks 1800-1899\n",
      "Time since last: 238.7s\n",
      "\n",
      "Pre-processing chunks 1900-1999\n",
      "Time since last: 216.2s\n",
      "\n",
      "Pre-processing chunks 2000-2099\n",
      "Time since last: 217.9s\n",
      "\n",
      "Pre-processing chunks 2100-2199\n",
      "Time since last: 244.2s\n",
      "\n",
      "Pre-processing chunks 2200-2299\n",
      "Time since last: 239.8s\n",
      "\n",
      "Pre-processing chunks 2300-2399\n",
      "Time since last: 244.5s\n",
      "\n",
      "Pre-processing chunks 2400-2499\n",
      "Time since last: 233.9s\n",
      "\n",
      "Pre-processing chunks 2500-2599\n",
      "Time since last: 233.4s\n",
      "\n",
      "Pre-processing chunks 2600-2699\n",
      "Time since last: 222.9s\n",
      "\n",
      "Pre-processing chunks 2700-2799\n",
      "Time since last: 222.4s\n",
      "\n",
      "Pre-processing chunks 2800-2899\n",
      "Time since last: 218.6s\n",
      "\n",
      "Pre-processing chunks 2900-2999\n",
      "Time since last: 213.0s\n",
      "\n",
      "Pre-processing chunks 3000-3099\n",
      "Time since last: 194.0s\n",
      "\n",
      "Pre-processing chunks 3100-3199\n",
      "Time since last: 192.4s\n",
      "\n",
      "Pre-processing chunks 3200-3299\n",
      "Time since last: 191.7s\n",
      "\n",
      "Pre-processing chunks 3300-3399\n",
      "Time since last: 192.8s\n",
      "\n",
      "Pre-processing chunks 3400-3499\n"
     ]
    }
   ],
   "source": [
    "# Write the pre processed data sample to parquet\n",
    "# Iterate through chunks\n",
    "\n",
    "start = timeit.default_timer()\n",
    "start_progress = timeit.default_timer()\n",
    "progress_step = 100\n",
    "\n",
    "for i_chunk, chunk in enumerate(data):\n",
    "        \n",
    "        # Print progress\n",
    "        if i_chunk%progress_step == 0:\n",
    "            stop_progress = timeit.default_timer()\n",
    "            print(f'Time since last: {stop_progress-start_progress:.1f}s\\n')\n",
    "            print(f\"Pre-processing chunks {i_chunk}-{i_chunk+progress_step-1}\")\n",
    "            start_progress = timeit.default_timer()\n",
    "        \n",
    "        # Pre-process chunk\n",
    "        chunk_prep = prep_docs(chunk, speaker_attributes, print_progress = False, fix_contract = True, del_stop = False, lemmatize = True, min_size = 5, min_true_size = 5)\n",
    "\n",
    "        # Write to parquet file\n",
    "        table = pa.Table.from_pandas(chunk_prep)\n",
    "\n",
    "        # for the first chunk of records\n",
    "        if i_chunk == 0:\n",
    "            # create a parquet write object giving it an output file\n",
    "            pqwriter = pq.ParquetWriter(data_folder + 'quotes-'+str(year)+'-prep.parquet', table.schema)\n",
    "\n",
    "        pqwriter.write_table(table)\n",
    "\n",
    "stop = timeit.default_timer()\n",
    "print(f'Total time: {stop-start:.1f}s\\n')\n",
    "        \n",
    "# close the parquet writer\n",
    "if pqwriter:\n",
    "    pqwriter.close()"
   ]
  },
  {
   "cell_type": "code",
   "execution_count": null,
   "id": "21dae306-78b5-41f0-be7f-77591f8f3e6e",
   "metadata": {},
   "outputs": [],
   "source": []
  }
 ],
 "metadata": {
  "kernelspec": {
   "display_name": "Python 3",
   "language": "python",
   "name": "python3"
  },
  "language_info": {
   "codemirror_mode": {
    "name": "ipython",
    "version": 3
   },
   "file_extension": ".py",
   "mimetype": "text/x-python",
   "name": "python",
   "nbconvert_exporter": "python",
   "pygments_lexer": "ipython3",
   "version": "3.8.8"
  },
  "toc-autonumbering": true,
  "toc-showcode": false,
  "toc-showmarkdowntxt": false
 },
 "nbformat": 4,
 "nbformat_minor": 5
}
